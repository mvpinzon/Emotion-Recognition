{
 "cells": [
  {
   "cell_type": "markdown",
   "metadata": {},
   "source": [
    "### RAFAEL MOTION\n"
   ]
  },
  {
   "cell_type": "code",
   "execution_count": null,
   "metadata": {},
   "outputs": [],
   "source": [
    "# Importación de librerarias\n",
    "\n",
    "from jetbot import Robot\n",
    "from jetbot import Camera\n",
    "import serial\n",
    "import threading\n",
    "import time\n",
    "from servoserial import ServoSerial\n",
    "import ctypes\n",
    "import inspect\n",
    "from jetbot import bgr8_to_jpeg\n",
    "import traitlets\n",
    "from RGB_Lib import Programing_RGB"
   ]
  },
  {
   "cell_type": "code",
   "execution_count": null,
   "metadata": {},
   "outputs": [],
   "source": [
    "# Inicialización de la cámara\n",
    "\n",
    "camera = Camera.instance(width=224, height=224)\n",
    "\n",
    "\n",
    "#Camera from jetbot is gr8 \n",
    "camera_link = traitlets.dlink((camera, 'value'), (image, 'value'), transform=bgr8_to_jpeg)\n"
   ]
  },
  {
   "cell_type": "markdown",
   "metadata": {},
   "source": [
    "#### Using of RGB"
   ]
  },
  {
   "cell_type": "markdown",
   "metadata": {},
   "source": [
    "Basic colors:"
   ]
  },
  {
   "cell_type": "code",
   "execution_count": null,
   "metadata": {},
   "outputs": [],
   "source": [
    "RGB = Programing_RGB()\n",
    "\n",
    "#Set all RGB to red \n",
    "RGB.Set_All_RGB(0xFF, 0x00, 0x00)\n",
    "\n",
    "#Set all RGB to green \n",
    "RGB.Set_All_RGB(0x00, 0xFF, 0x00)\n",
    "\n",
    "#Set all RGB to blue\n",
    "RGB.Set_All_RGB(0x00, 0x00, 0xFF)\n",
    "\n",
    "#Close all RGB\n",
    "RGB.OFF_ALL_RGB()"
   ]
  },
  {
   "cell_type": "markdown",
   "metadata": {},
   "source": [
    "Special Effects"
   ]
  },
  {
   "cell_type": "code",
   "execution_count": null,
   "metadata": {},
   "outputs": [],
   "source": [
    "RGB = Programing_RGB()\n",
    "#Waterlight \n",
    "RGB.Set_WaterfallLight_RGB()\n",
    "\n",
    "# Cameleon Effect\n",
    "RGB.Set_ChameleonLight_RGB()\n",
    "\n",
    "#Breathing light effects \n",
    "RGB.Set_BreathSColor_RGB(0) # Set number for all 7 seven colors available\n",
    "RGB.Set_BreathSSpeed_RGB(3)\n",
    "RGB.Set_BreathSLight_RGB()"
   ]
  },
  {
   "cell_type": "markdown",
   "metadata": {},
   "source": [
    "To access camera we must"
   ]
  },
  {
   "cell_type": "code",
   "execution_count": null,
   "metadata": {},
   "outputs": [],
   "source": [
    "from jetbot import Camera\n",
    "\n",
    "camera = Camera.instance(width=720, height=720)\n",
    "\n",
    "#ex:\n",
    "frame = camera.value\n",
    "frame = cv2.resize(frame, (300, 300))\n",
    "gray = cv2.cvtColor(frame,cv2.COLOR_BGR2GRAY)\n",
    "faces = face_cascade.detectMultiScale( gray )"
   ]
  },
  {
   "cell_type": "markdown",
   "metadata": {},
   "source": [
    "#### Basic Movement of Rafael 0 to 9:"
   ]
  },
  {
   "cell_type": "code",
   "execution_count": null,
   "metadata": {},
   "outputs": [],
   "source": [
    "# Initialize the instance\n",
    "robot = Robot()\n",
    "\n",
    "## If algo = 0:\n",
    "\n",
    "robot.right(0.7)#Jetbot turn right\n",
    "time.sleep(4)\n",
    "robot.backward(0.5)#PTZ decline\n",
    "time.sleep(2)\n"
   ]
  },
  {
   "cell_type": "code",
   "execution_count": null,
   "metadata": {},
   "outputs": [],
   "source": [
    "## If algo = 1: movimiento de serpiente\n",
    "for _ in range(10):\n",
    "    robot.left(0.4)\n",
    "    time.sleep(0.5)\n",
    "    robot.right(0.4)\n",
    "    time.sleep(0.5)\n",
    "robot.stop()"
   ]
  },
  {
   "cell_type": "code",
   "execution_count": null,
   "metadata": {},
   "outputs": [],
   "source": [
    "## If algo = 2: ochos\n",
    "for _ in range(2):\n",
    "    robot.left(0.6)\n",
    "    time.sleep(1.5)\n",
    "    robot.right(0.6)\n",
    "    time.sleep(1.5)\n",
    "robot.stop()"
   ]
  },
  {
   "cell_type": "code",
   "execution_count": null,
   "metadata": {},
   "outputs": [],
   "source": [
    "## If algo = 3: círculos dentro de círculos\n",
    "for i in range(3):\n",
    "    robot.forward(0.5)\n",
    "    time.sleep(1 + i * 0.5)\n",
    "    robot.right(0.5)\n",
    "    time.sleep(1)\n",
    "robot.stop()"
   ]
  },
  {
   "cell_type": "code",
   "execution_count": null,
   "metadata": {},
   "outputs": [],
   "source": [
    "## If algo = 4:\n",
    "\n",
    "for _ in range(4):\n",
    "    robot.forward(0.6)\n",
    "    time.sleep(3)\n",
    "    robot.right(0.5)  # Giro 90 grados\n",
    "    time.sleep(1.5)\n",
    "robot.stop()"
   ]
  },
  {
   "cell_type": "code",
   "execution_count": null,
   "metadata": {},
   "outputs": [],
   "source": [
    "## If algo = 5: marcha militar\n",
    "for _ in range(8):\n",
    "    robot.forward(0.7)\n",
    "    time.sleep(0.5)\n",
    "    robot.stop()\n",
    "    time.sleep(0.2)\n",
    "robot.stop()"
   ]
  },
  {
   "cell_type": "code",
   "execution_count": null,
   "metadata": {},
   "outputs": [],
   "source": [
    "## If algo ==6: baila\n",
    "for _ in range(6):\n",
    "    robot.forward(0.6)\n",
    "    time.sleep(0.5)\n",
    "    robot.backward(0.6)\n",
    "    time.sleep(0.5)\n",
    "    robot.left(0.5)\n",
    "    time.sleep(0.3)\n",
    "    robot.right(0.5)\n",
    "    time.sleep(0.3)\n",
    "robot.stop()"
   ]
  },
  {
   "cell_type": "code",
   "execution_count": null,
   "metadata": {},
   "outputs": [],
   "source": [
    "## If algo ==7: circulo\n",
    "\n",
    "robot.left(0.5)\n",
    "time.sleep(6)  # Tiempo ajustado para completar el círculo\n",
    "robot.stop()"
   ]
  },
  {
   "cell_type": "code",
   "execution_count": null,
   "metadata": {},
   "outputs": [],
   "source": [
    "## If algo ==8: zig zag\n",
    "\n",
    "for _ in range(6):\n",
    "    robot.forward(0.6)\n",
    "    time.sleep(1)\n",
    "    robot.right(0.7)\n",
    "    time.sleep(0.5)\n",
    "    robot.left(0.7)\n",
    "    time.sleep(0.5)\n",
    "robot.stop()"
   ]
  },
  {
   "cell_type": "code",
   "execution_count": null,
   "metadata": {},
   "outputs": [],
   "source": [
    "## If algo ==9: carrusel\n",
    "\n",
    "for _ in range(3):\n",
    "    robot.right(1)\n",
    "    time.sleep(2)\n",
    "    robot.left(1)\n",
    "    time.sleep(2)\n",
    "robot.stop()"
   ]
  },
  {
   "cell_type": "code",
   "execution_count": null,
   "metadata": {},
   "outputs": [],
   "source": [
    "robot.stop()#stop Jetbot"
   ]
  }
 ],
 "metadata": {
  "kernelspec": {
   "display_name": "Python 3",
   "language": "python",
   "name": "python3"
  },
  "language_info": {
   "name": "python",
   "version": "3.11.8"
  }
 },
 "nbformat": 4,
 "nbformat_minor": 2
}
