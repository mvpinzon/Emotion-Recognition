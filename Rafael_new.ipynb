{
 "cells": [
  {
   "cell_type": "markdown",
   "metadata": {},
   "source": [
    "### RAFAEL MOTION\n"
   ]
  },
  {
   "cell_type": "code",
   "execution_count": null,
   "metadata": {},
   "outputs": [],
   "source": [
    "# Importación de librerarias\n",
    "\n",
    "from jetbot import Robot\n",
    "from jetbot import Camera\n",
    "import serial\n",
    "import threading\n",
    "import time\n",
    "from servoserial import ServoSerial\n",
    "import ctypes\n",
    "import inspect\n",
    "from jetbot import bgr8_to_jpeg\n",
    "import traitlets\n",
    "from RGB_Lib import Programing_RGB"
   ]
  },
  {
   "cell_type": "code",
   "execution_count": null,
   "metadata": {},
   "outputs": [],
   "source": [
    "# Inicialización de la cámara\n",
    "\n",
    "camera = Camera.instance(width=224, height=224)\n",
    "\n",
    "\n",
    "#Camera from jetbot is gr8 \n",
    "camera_link = traitlets.dlink((camera, 'value'), (image, 'value'), transform=bgr8_to_jpeg)\n"
   ]
  },
  {
   "cell_type": "markdown",
   "metadata": {},
   "source": [
    "#### Using of RGB"
   ]
  },
  {
   "cell_type": "markdown",
   "metadata": {},
   "source": [
    "Basic colors:"
   ]
  },
  {
   "cell_type": "code",
   "execution_count": null,
   "metadata": {},
   "outputs": [],
   "source": [
    "RGB = Programing_RGB()\n",
    "\n",
    "#Set all RGB to red \n",
    "RGB.Set_All_RGB(0xFF, 0x00, 0x00)\n",
    "\n",
    "#Set all RGB to green \n",
    "RGB.Set_All_RGB(0x00, 0xFF, 0x00)\n",
    "\n",
    "#Set all RGB to blue\n",
    "RGB.Set_All_RGB(0x00, 0x00, 0xFF)\n",
    "\n",
    "#Close all RGB\n",
    "RGB.OFF_ALL_RGB()"
   ]
  },
  {
   "cell_type": "markdown",
   "metadata": {},
   "source": [
    "Special Effects"
   ]
  },
  {
   "cell_type": "code",
   "execution_count": null,
   "metadata": {},
   "outputs": [],
   "source": [
    "RGB = Programing_RGB()\n",
    "#Waterlight \n",
    "RGB.Set_WaterfallLight_RGB()\n",
    "\n",
    "# Cameleon Effect\n",
    "RGB.Set_ChameleonLight_RGB()\n",
    "\n",
    "#Breathing light effects \n",
    "RGB.Set_BreathSColor_RGB(0) # Set number for all 7 seven colors available\n",
    "RGB.Set_BreathSSpeed_RGB(3)\n",
    "RGB.Set_BreathSLight_RGB()"
   ]
  }
 ],
 "metadata": {
  "kernelspec": {
   "display_name": "Python 3",
   "language": "python",
   "name": "python3"
  },
  "language_info": {
   "name": "python",
   "version": "3.11.8"
  }
 },
 "nbformat": 4,
 "nbformat_minor": 2
}
